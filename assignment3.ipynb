{
 "cells": [
  {
   "cell_type": "code",
   "execution_count": 1,
   "id": "cfd47640",
   "metadata": {},
   "outputs": [
    {
     "name": "stdout",
     "output_type": "stream",
     "text": [
      "Requirement already satisfied: psycopg in /Users/parkjunwoo/opt/anaconda3/lib/python3.9/site-packages (3.1.12)\n",
      "Requirement already satisfied: typing-extensions>=4.1 in /Users/parkjunwoo/opt/anaconda3/lib/python3.9/site-packages (from psycopg) (4.3.0)\n",
      "Note: you may need to restart the kernel to use updated packages.\n"
     ]
    }
   ],
   "source": [
    "pip install psycopg"
   ]
  },
  {
   "cell_type": "code",
   "execution_count": 2,
   "id": "eee2a449",
   "metadata": {},
   "outputs": [],
   "source": [
    "import psycopg\n",
    "from psycopg import sql\n",
    "# change to your python code file name\n",
    "from assignment3_2019147603 import *"
   ]
  },
  {
   "cell_type": "code",
   "execution_count": 3,
   "id": "49e08925",
   "metadata": {},
   "outputs": [],
   "source": [
    "HOST = 'localhost' #localhost\n",
    "DBNAME = 'postgres' # postgres\n",
    "USER = 'postgres' # postgres\n",
    "PASSWORD = '57160000' #57160000\n",
    "#SCHNAME = 'myschema' # myschema"
   ]
  },
  {
   "cell_type": "code",
   "execution_count": 4,
   "id": "68dafdb4",
   "metadata": {},
   "outputs": [],
   "source": [
    "CONNECTION = f\"host={HOST} dbname={DBNAME} user={USER} password={PASSWORD}\""
   ]
  },
  {
   "cell_type": "code",
   "execution_count": 5,
   "id": "95e2d49c",
   "metadata": {},
   "outputs": [
    {
     "ename": "DuplicateTable",
     "evalue": "relation \"building\" already exists",
     "output_type": "error",
     "traceback": [
      "\u001b[0;31m---------------------------------------------------------------------------\u001b[0m",
      "\u001b[0;31mDuplicateTable\u001b[0m                            Traceback (most recent call last)",
      "Input \u001b[0;32mIn [5]\u001b[0m, in \u001b[0;36m<cell line: 5>\u001b[0;34m()\u001b[0m\n\u001b[1;32m      1\u001b[0m \u001b[38;5;66;03m# create table\u001b[39;00m\n\u001b[1;32m      2\u001b[0m \u001b[38;5;66;03m# change 'my_path' to your path where create_table.sql file exist \u001b[39;00m\n\u001b[1;32m      3\u001b[0m path \u001b[38;5;241m=\u001b[39m  \u001b[38;5;124m'\u001b[39m\u001b[38;5;124m/Users/parkjunwoo/Desktop/DB_assignment3/create_table.sql\u001b[39m\u001b[38;5;124m'\u001b[39m\n\u001b[0;32m----> 5\u001b[0m \u001b[43mexecute_sql\u001b[49m\u001b[43m(\u001b[49m\u001b[43mCONNECTION\u001b[49m\u001b[43m,\u001b[49m\u001b[43m \u001b[49m\u001b[43mpath\u001b[49m\u001b[43m)\u001b[49m\n",
      "File \u001b[0;32m~/Desktop/DB_assignment3/assignment3_2019147603.py:301\u001b[0m, in \u001b[0;36mexecute_sql\u001b[0;34m(CONNECTION, path)\u001b[0m\n\u001b[1;32m    299\u001b[0m \u001b[38;5;28;01mif\u001b[39;00m file \u001b[38;5;129;01min\u001b[39;00m os\u001b[38;5;241m.\u001b[39mlistdir(folder_path):\n\u001b[1;32m    300\u001b[0m     \u001b[38;5;28;01mwith\u001b[39;00m psycopg\u001b[38;5;241m.\u001b[39mconnect(CONNECTION) \u001b[38;5;28;01mas\u001b[39;00m conn:\n\u001b[0;32m--> 301\u001b[0m         \u001b[43mconn\u001b[49m\u001b[38;5;241;43m.\u001b[39;49m\u001b[43mexecute\u001b[49m\u001b[43m(\u001b[49m\u001b[38;5;28;43mopen\u001b[39;49m\u001b[43m(\u001b[49m\u001b[43mpath\u001b[49m\u001b[43m,\u001b[49m\u001b[43m \u001b[49m\u001b[38;5;124;43m'\u001b[39;49m\u001b[38;5;124;43mr\u001b[39;49m\u001b[38;5;124;43m'\u001b[39;49m\u001b[43m,\u001b[49m\u001b[43m \u001b[49m\u001b[43mencoding\u001b[49m\u001b[38;5;241;43m=\u001b[39;49m\u001b[38;5;124;43m'\u001b[39;49m\u001b[38;5;124;43mutf-8\u001b[39;49m\u001b[38;5;124;43m'\u001b[39;49m\u001b[43m)\u001b[49m\u001b[38;5;241;43m.\u001b[39;49m\u001b[43mread\u001b[49m\u001b[43m(\u001b[49m\u001b[43m)\u001b[49m\u001b[43m)\u001b[49m\n\u001b[1;32m    302\u001b[0m         conn\u001b[38;5;241m.\u001b[39mcommit()\n\u001b[1;32m    303\u001b[0m     \u001b[38;5;28mprint\u001b[39m(\u001b[38;5;124m\"\u001b[39m\u001b[38;5;132;01m{}\u001b[39;00m\u001b[38;5;124m EXECUTRED!\u001b[39m\u001b[38;5;124m\"\u001b[39m\u001b[38;5;241m.\u001b[39mformat(file))\n",
      "File \u001b[0;32m~/opt/anaconda3/lib/python3.9/site-packages/psycopg/connection.py:892\u001b[0m, in \u001b[0;36mConnection.execute\u001b[0;34m(self, query, params, prepare, binary)\u001b[0m\n\u001b[1;32m    889\u001b[0m     \u001b[38;5;28;01mreturn\u001b[39;00m cur\u001b[38;5;241m.\u001b[39mexecute(query, params, prepare\u001b[38;5;241m=\u001b[39mprepare)\n\u001b[1;32m    891\u001b[0m \u001b[38;5;28;01mexcept\u001b[39;00m e\u001b[38;5;241m.\u001b[39m_NO_TRACEBACK \u001b[38;5;28;01mas\u001b[39;00m ex:\n\u001b[0;32m--> 892\u001b[0m     \u001b[38;5;28;01mraise\u001b[39;00m ex\u001b[38;5;241m.\u001b[39mwith_traceback(\u001b[38;5;28;01mNone\u001b[39;00m)\n",
      "\u001b[0;31mDuplicateTable\u001b[0m: relation \"building\" already exists"
     ]
    }
   ],
   "source": [
    "# create table\n",
    "# change 'my_path' to your path where create_table.sql file exist \n",
    "path =  '/Users/parkjunwoo/Desktop/DB_assignment3/create_table.sql'\n",
    "\n",
    "execute_sql(CONNECTION, path)"
   ]
  },
  {
   "cell_type": "code",
   "execution_count": 6,
   "id": "d1a74f5f",
   "metadata": {},
   "outputs": [
    {
     "ename": "UniqueViolation",
     "evalue": "duplicate key value violates unique constraint \"BUILDING_pkey\"\nDETAIL:  Key (\"ABBR_NAME\")=(교) already exists.",
     "output_type": "error",
     "traceback": [
      "\u001b[0;31m---------------------------------------------------------------------------\u001b[0m",
      "\u001b[0;31mUniqueViolation\u001b[0m                           Traceback (most recent call last)",
      "Input \u001b[0;32mIn [6]\u001b[0m, in \u001b[0;36m<cell line: 5>\u001b[0;34m()\u001b[0m\n\u001b[1;32m      1\u001b[0m \u001b[38;5;66;03m# insert_data\u001b[39;00m\n\u001b[1;32m      2\u001b[0m \u001b[38;5;66;03m# change 'my_path' to your path where insert_data.sql file exist \u001b[39;00m\n\u001b[1;32m      3\u001b[0m path \u001b[38;5;241m=\u001b[39m  \u001b[38;5;124m'\u001b[39m\u001b[38;5;124m/Users/parkjunwoo/Desktop/DB_assignment3/insert_data.sql\u001b[39m\u001b[38;5;124m'\u001b[39m\n\u001b[0;32m----> 5\u001b[0m \u001b[43mexecute_sql\u001b[49m\u001b[43m(\u001b[49m\u001b[43mCONNECTION\u001b[49m\u001b[43m,\u001b[49m\u001b[43m \u001b[49m\u001b[43mpath\u001b[49m\u001b[43m)\u001b[49m\n",
      "File \u001b[0;32m~/Desktop/DB_assignment3/assignment3_2019147603.py:301\u001b[0m, in \u001b[0;36mexecute_sql\u001b[0;34m(CONNECTION, path)\u001b[0m\n\u001b[1;32m    299\u001b[0m \u001b[38;5;28;01mif\u001b[39;00m file \u001b[38;5;129;01min\u001b[39;00m os\u001b[38;5;241m.\u001b[39mlistdir(folder_path):\n\u001b[1;32m    300\u001b[0m     \u001b[38;5;28;01mwith\u001b[39;00m psycopg\u001b[38;5;241m.\u001b[39mconnect(CONNECTION) \u001b[38;5;28;01mas\u001b[39;00m conn:\n\u001b[0;32m--> 301\u001b[0m         \u001b[43mconn\u001b[49m\u001b[38;5;241;43m.\u001b[39;49m\u001b[43mexecute\u001b[49m\u001b[43m(\u001b[49m\u001b[38;5;28;43mopen\u001b[39;49m\u001b[43m(\u001b[49m\u001b[43mpath\u001b[49m\u001b[43m,\u001b[49m\u001b[43m \u001b[49m\u001b[38;5;124;43m'\u001b[39;49m\u001b[38;5;124;43mr\u001b[39;49m\u001b[38;5;124;43m'\u001b[39;49m\u001b[43m,\u001b[49m\u001b[43m \u001b[49m\u001b[43mencoding\u001b[49m\u001b[38;5;241;43m=\u001b[39;49m\u001b[38;5;124;43m'\u001b[39;49m\u001b[38;5;124;43mutf-8\u001b[39;49m\u001b[38;5;124;43m'\u001b[39;49m\u001b[43m)\u001b[49m\u001b[38;5;241;43m.\u001b[39;49m\u001b[43mread\u001b[49m\u001b[43m(\u001b[49m\u001b[43m)\u001b[49m\u001b[43m)\u001b[49m\n\u001b[1;32m    302\u001b[0m         conn\u001b[38;5;241m.\u001b[39mcommit()\n\u001b[1;32m    303\u001b[0m     \u001b[38;5;28mprint\u001b[39m(\u001b[38;5;124m\"\u001b[39m\u001b[38;5;132;01m{}\u001b[39;00m\u001b[38;5;124m EXECUTRED!\u001b[39m\u001b[38;5;124m\"\u001b[39m\u001b[38;5;241m.\u001b[39mformat(file))\n",
      "File \u001b[0;32m~/opt/anaconda3/lib/python3.9/site-packages/psycopg/connection.py:892\u001b[0m, in \u001b[0;36mConnection.execute\u001b[0;34m(self, query, params, prepare, binary)\u001b[0m\n\u001b[1;32m    889\u001b[0m     \u001b[38;5;28;01mreturn\u001b[39;00m cur\u001b[38;5;241m.\u001b[39mexecute(query, params, prepare\u001b[38;5;241m=\u001b[39mprepare)\n\u001b[1;32m    891\u001b[0m \u001b[38;5;28;01mexcept\u001b[39;00m e\u001b[38;5;241m.\u001b[39m_NO_TRACEBACK \u001b[38;5;28;01mas\u001b[39;00m ex:\n\u001b[0;32m--> 892\u001b[0m     \u001b[38;5;28;01mraise\u001b[39;00m ex\u001b[38;5;241m.\u001b[39mwith_traceback(\u001b[38;5;28;01mNone\u001b[39;00m)\n",
      "\u001b[0;31mUniqueViolation\u001b[0m: duplicate key value violates unique constraint \"BUILDING_pkey\"\nDETAIL:  Key (\"ABBR_NAME\")=(교) already exists."
     ]
    }
   ],
   "source": [
    "# insert_data\n",
    "# change 'my_path' to your path where insert_data.sql file exist \n",
    "path =  '/Users/parkjunwoo/Desktop/DB_assignment3/insert_data.sql'\n",
    "\n",
    "execute_sql(CONNECTION, path)"
   ]
  },
  {
   "cell_type": "markdown",
   "id": "3eba5455",
   "metadata": {},
   "source": [
    "### entire_search(CONNECTION: str, table_name: str) -> Union[list, None]"
   ]
  },
  {
   "cell_type": "code",
   "execution_count": 5,
   "id": "72ba9d64",
   "metadata": {},
   "outputs": [
    {
     "data": {
      "text/plain": [
       "[('교', '교육과학관', '교육대학원'),\n",
       " ('외', '외솔관', '문과대학'),\n",
       " ('위', '위당관', '문과대학'),\n",
       " ('상본', '상경대학(본관)', '상경대학/경영대학'),\n",
       " ('상별', '상경대학(별관)', '상경대학/경영대학'),\n",
       " ('과', '과학관', '이과대학'),\n",
       " ('과S', '과학원', '이과대학'),\n",
       " ('공A', '공학관(구관)', '공과대학'),\n",
       " ('공B', '제2공학관', '공과대학'),\n",
       " ('공C', '제3공학관', '공과대학'),\n",
       " ('공D', '제4공학관', '공과대학'),\n",
       " ('신', '신학관', '연합신학대학원'),\n",
       " ('연', '연희관', '사회과학대학'),\n",
       " ('광', '광복관', '법과대학'),\n",
       " ('음(A)', '음악관A', '음악대학'),\n",
       " ('음(B)', '음악관B', '음악대학'),\n",
       " ('생', '삼성관', '생활과학대학'),\n",
       " ('용', '용재관', '교육과학대학'),\n",
       " ('체', '체육교육관', ''),\n",
       " ('장기원', '장기원기념관', ''),\n",
       " ('백', '백양관(구 상경대학)', '학부대학'),\n",
       " ('아', '아펜젤러관(구 신학관)', ''),\n",
       " ('빌', '빌링슬리관(구 가정관)', '언론홍보대학원'),\n",
       " ('간', '간호대학', '간호대학'),\n",
       " ('새천', '새천년관', '국제학대학원'),\n",
       " ('김대중도서관', '김대중도서관', ''),\n",
       " ('첨', '첨단과학기술연구관', '')]"
      ]
     },
     "execution_count": 5,
     "metadata": {},
     "output_type": "execute_result"
    }
   ],
   "source": [
    "# search all data, 특정 테이블의 전체 데이터를 검색\n",
    "table_name = 'building'\n",
    "entire_search(CONNECTION=CONNECTION, table_name=table_name)"
   ]
  },
  {
   "cell_type": "markdown",
   "id": "dc6a0110",
   "metadata": {},
   "source": [
    "### registration_history(CONNECTION: str, student_id: str) -> Union[list, None]"
   ]
  },
  {
   "cell_type": "code",
   "execution_count": 6,
   "id": "39efe5b8",
   "metadata": {},
   "outputs": [
    {
     "name": "stdout",
     "output_type": "stream",
     "text": [
      "year: 2017 | semester: 1 | course_id_prefix: CSI | course_id_no: 3105 | division_no: 1 | course_name: 데이터베이스 | prof_name: Park | grade: 4.3 | \n",
      "----------------------------------------------------------------------------------------------------\n",
      "year: 2017 | semester: 2 | course_id_prefix: CSI | course_id_no: 2103 | division_no: 1 | course_name: 자료구조 | prof_name: Kim | grade: 4.0 | \n",
      "----------------------------------------------------------------------------------------------------\n",
      "year: 2018 | semester: 1 | course_id_prefix: CSI | course_id_no: 2111 | division_no: 1 | course_name: 논리회로설계 | prof_name: Lee | grade: 4.0 | \n",
      "----------------------------------------------------------------------------------------------------\n",
      "year: 2018 | semester: 2 | course_id_prefix: CSI | course_id_no: 4108 | division_no: 1 | course_name: 인공지능 | prof_name: Jo | grade: 3.7 | \n",
      "----------------------------------------------------------------------------------------------------\n",
      "year: 2019 | semester: 2 | course_id_prefix: CSI | course_id_no: 3108 | division_no: 1 | course_name: 알고리즘분석 | prof_name: Tunak | grade: 3.0 | \n",
      "----------------------------------------------------------------------------------------------------\n",
      "year: 2020 | semester: 2 | course_id_prefix: CSI | course_id_no: 4121 | division_no: 1 | course_name: 빅데이터 | prof_name: Hwang | grade: 3.7 | \n",
      "----------------------------------------------------------------------------------------------------\n",
      "year: 2022 | semester: 2 | course_id_prefix: CSI | course_id_no: 3105 | division_no: 1 | course_name: 데이터베이스 | prof_name: Park | grade: None | \n",
      "----------------------------------------------------------------------------------------------------\n"
     ]
    }
   ],
   "source": [
    "# search registration history by student id, 학번을 통해 학생의 수강 기록 및 성적 확인\n",
    "student_id = '2017111111'\n",
    "registration_history(CONNECTION=CONNECTION, student_id=student_id)"
   ]
  },
  {
   "cell_type": "markdown",
   "id": "6756e417",
   "metadata": {},
   "source": [
    "### registration(CONNECTION: str, course_id: int, student_id: str) -> Union[list, None]"
   ]
  },
  {
   "cell_type": "code",
   "execution_count": 9,
   "id": "947e3a49",
   "metadata": {},
   "outputs": [
    {
     "data": {
      "text/plain": [
       "[(1, '2017111111'),\n",
       " (2, '2017111111'),\n",
       " (3, '2017111111'),\n",
       " (4, '2017111111'),\n",
       " (6, '2017111111'),\n",
       " (8, '2017111111'),\n",
       " (3, '2018111111'),\n",
       " (5, '2018111111'),\n",
       " (6, '2018111111'),\n",
       " (7, '2018111111'),\n",
       " (9, '2018111111'),\n",
       " (10, '2018111111'),\n",
       " (5, '2019111111'),\n",
       " (6, '2019111111'),\n",
       " (7, '2019111111'),\n",
       " (8, '2019111111'),\n",
       " (7, '2020111111'),\n",
       " (8, '2020111111'),\n",
       " (9, '2020111111'),\n",
       " (9, '2021111111'),\n",
       " (10, '2021111111'),\n",
       " (11, '2021111111'),\n",
       " (11, '2022222222'),\n",
       " (11, '2022333333'),\n",
       " (11, '2022444444'),\n",
       " (12, '2017111111'),\n",
       " (12, '2020111111'),\n",
       " (12, '2022111111'),\n",
       " (2, '2022111111')]"
      ]
     },
     "execution_count": 9,
     "metadata": {},
     "output_type": "execute_result"
    }
   ],
   "source": [
    "# registration course, 수강 신청\n",
    "course_id = 2 #수강 신청할 강의\n",
    "student_id = '2022111111' #수강 신청하는 학생의 번호\n",
    "registration(CONNECTION=CONNECTION, course_id=course_id, student_id=student_id)"
   ]
  },
  {
   "cell_type": "markdown",
   "id": "dcaf32b5",
   "metadata": {},
   "source": [
    "### withdrawal_registration(CONNECTION: str, course_id: int, student_id: str) -> Union[list, None]"
   ]
  },
  {
   "cell_type": "code",
   "execution_count": 11,
   "id": "1be367a3",
   "metadata": {},
   "outputs": [
    {
     "data": {
      "text/plain": [
       "[(1, '2017111111'),\n",
       " (2, '2017111111'),\n",
       " (3, '2017111111'),\n",
       " (4, '2017111111'),\n",
       " (6, '2017111111'),\n",
       " (8, '2017111111'),\n",
       " (3, '2018111111'),\n",
       " (5, '2018111111'),\n",
       " (6, '2018111111'),\n",
       " (7, '2018111111'),\n",
       " (9, '2018111111'),\n",
       " (10, '2018111111'),\n",
       " (5, '2019111111'),\n",
       " (6, '2019111111'),\n",
       " (7, '2019111111'),\n",
       " (8, '2019111111'),\n",
       " (7, '2020111111'),\n",
       " (8, '2020111111'),\n",
       " (9, '2020111111'),\n",
       " (9, '2021111111'),\n",
       " (10, '2021111111'),\n",
       " (11, '2021111111'),\n",
       " (11, '2022222222'),\n",
       " (11, '2022333333'),\n",
       " (11, '2022444444'),\n",
       " (12, '2017111111'),\n",
       " (12, '2020111111'),\n",
       " (12, '2022111111')]"
      ]
     },
     "execution_count": 11,
     "metadata": {},
     "output_type": "execute_result"
    }
   ],
   "source": [
    "# withdrawal course, 수강 철회\n",
    "course_id = 2 # 수강 철회할 강의\n",
    "student_id = '2022111111' # 수강 철회하는 학생의 학번\n",
    "withdrawal_registration(CONNECTION=CONNECTION, course_id=course_id, student_id=student_id)"
   ]
  },
  {
   "cell_type": "markdown",
   "id": "55dbef7a",
   "metadata": {},
   "source": [
    "### modify_lectureroom(CONNECTION: str, course_id: int, buildno: str, roomno: str) -> Union[list, None]"
   ]
  },
  {
   "cell_type": "code",
   "execution_count": 12,
   "id": "fe539d50",
   "metadata": {},
   "outputs": [
    {
     "data": {
      "text/plain": [
       "[(1, 2017, 1, 'CSI', '3105', 1, '데이터베이스', '1900011110', '공D', '504', 3, 40),\n",
       " (2, 2017, 2, 'CSI', '2103', 1, '자료구조', '1900011111', '공D', '401', 3, 40),\n",
       " (3, 2018, 1, 'CSI', '2111', 1, '논리회로설계', '1900011112', '공D', '402', 3, 40),\n",
       " (4, 2018, 2, 'CSI', '4108', 1, '인공지능', '1900011113', '공D', '405', 3, 40),\n",
       " (5, 2019, 1, 'CSI', '4116', 1, '컴퓨터비전', '1900011114', '공D', '403', 3, 40),\n",
       " (6, 2019, 2, 'CSI', '3108', 1, '알고리즘분석', '1900011115', '공D', '504', 3, 40),\n",
       " (7, 2020, 1, 'CSI', '4117', 1, '테이터마이닝', '1900011116', '공D', '404', 3, 40),\n",
       " (8, 2020, 2, 'CSI', '4121', 1, '빅데이터', '1900011117', '공D', '407', 3, 40),\n",
       " (9, 2021, 1, 'CSI', '3106', 1, '소프트웨어공학', '1900011118', '공D', '406', 3, 40),\n",
       " (10, 2021, 2, 'CSI', '4106', 1, '컴퓨터네트워크', '1900011119', '공D', '404', 3, 40),\n",
       " (11, 2022, 1, 'CSI', '2103', 1, '자료구조', '1900011111', '공D', '401', 3, 40),\n",
       " (12, 2022, 2, 'CSI', '3105', 1, '데이터베이스', '1900011110', '공D', '408', 3, 40)]"
      ]
     },
     "execution_count": 12,
     "metadata": {},
     "output_type": "execute_result"
    }
   ],
   "source": [
    "# modify lecture room, 강의를 진행하는 강의실이 변경되어 건물명과 강의실의 호수를 변경\n",
    "course_id = 12 # 강의실이 바뀐 강의\n",
    "buildno = '공D' # 새로 지정된 강의실의 건물명\n",
    "roomno = '408' # 새로 지정된 강의실의 호수\n",
    "\n",
    "modify_lectureroom(CONNECTION=CONNECTION, course_id=course_id, buildno=buildno, roomno=roomno)"
   ]
  },
  {
   "cell_type": "code",
   "execution_count": null,
   "id": "07363f24",
   "metadata": {},
   "outputs": [],
   "source": []
  }
 ],
 "metadata": {
  "kernelspec": {
   "display_name": "Python 3 (ipykernel)",
   "language": "python",
   "name": "python3"
  },
  "language_info": {
   "codemirror_mode": {
    "name": "ipython",
    "version": 3
   },
   "file_extension": ".py",
   "mimetype": "text/x-python",
   "name": "python",
   "nbconvert_exporter": "python",
   "pygments_lexer": "ipython3",
   "version": "3.9.13"
  }
 },
 "nbformat": 4,
 "nbformat_minor": 5
}
